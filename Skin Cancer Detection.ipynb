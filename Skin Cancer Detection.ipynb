{
 "cells": [
  {
   "cell_type": "code",
   "execution_count": 16,
   "id": "8e1c2465",
   "metadata": {},
   "outputs": [],
   "source": [
    "%matplotlib inline\n",
    "import matplotlib.pyplot as plt\n",
    "import numpy as np\n",
    "import pandas as pd\n",
    "import os\n",
    "from glob import glob\n",
    "import seaborn as sns\n",
    "from PIL import Image\n",
    "import tensorflow as tf\n",
    "from keras.utils.np_utils import to_categorical\n",
    "from sklearn.model_selection import train_test_split\n",
    "from zipfile import ZipFile"
   ]
  },
  {
   "cell_type": "code",
   "execution_count": 2,
   "id": "45e3cb5f",
   "metadata": {
    "scrolled": false
   },
   "outputs": [],
   "source": [
    "skin_df = pd.read_csv(\"archive\\HAM10000_metadata.csv\")\n",
    "lesion_type_dict = {\n",
    "    'nv': 'Melanocytic nevi',\n",
    "    'mel': 'Melanoma',\n",
    "    'bkl': 'Benign keratosis-like lesions ',\n",
    "    'bcc': 'Basal cell carcinoma',\n",
    "    'akiec': 'Actinic keratoses',\n",
    "    'vasc': 'Vascular lesions',\n",
    "    'df': 'Dermatofibroma'\n",
    "}\n",
    "imageid_path_dict = {}\n",
    "for i in range (10015):\n",
    "    imageid_path_dict[\"ISIC_00\" + str(24306+i)] = \"archive\\HAM10000_images\\ISIC_00\"+ str(24306+i)+\".jpg\""
   ]
  },
  {
   "cell_type": "code",
   "execution_count": 3,
   "id": "af2de6c4",
   "metadata": {},
   "outputs": [],
   "source": [
    "skin_df[\"path\"] = skin_df[\"image_id\"].map(imageid_path_dict.get)\n",
    "skin_df[\"cell_type\"] = skin_df[\"dx\"].map(lesion_type_dict.get)\n",
    "skin_df[\"cell_type_idx\"] = pd.Categorical(skin_df[\"cell_type\"]).codes"
   ]
  },
  {
   "cell_type": "code",
   "execution_count": 4,
   "id": "8d6ffdc6",
   "metadata": {},
   "outputs": [
    {
     "data": {
      "text/html": [
       "<div>\n",
       "<style scoped>\n",
       "    .dataframe tbody tr th:only-of-type {\n",
       "        vertical-align: middle;\n",
       "    }\n",
       "\n",
       "    .dataframe tbody tr th {\n",
       "        vertical-align: top;\n",
       "    }\n",
       "\n",
       "    .dataframe thead th {\n",
       "        text-align: right;\n",
       "    }\n",
       "</style>\n",
       "<table border=\"1\" class=\"dataframe\">\n",
       "  <thead>\n",
       "    <tr style=\"text-align: right;\">\n",
       "      <th></th>\n",
       "      <th>lesion_id</th>\n",
       "      <th>image_id</th>\n",
       "      <th>dx</th>\n",
       "      <th>dx_type</th>\n",
       "      <th>age</th>\n",
       "      <th>sex</th>\n",
       "      <th>localization</th>\n",
       "      <th>path</th>\n",
       "      <th>cell_type</th>\n",
       "      <th>cell_type_idx</th>\n",
       "    </tr>\n",
       "  </thead>\n",
       "  <tbody>\n",
       "    <tr>\n",
       "      <th>0</th>\n",
       "      <td>HAM_0000118</td>\n",
       "      <td>ISIC_0027419</td>\n",
       "      <td>bkl</td>\n",
       "      <td>histo</td>\n",
       "      <td>80.0</td>\n",
       "      <td>male</td>\n",
       "      <td>scalp</td>\n",
       "      <td>archive\\HAM10000_images\\ISIC_0027419.jpg</td>\n",
       "      <td>Benign keratosis-like lesions</td>\n",
       "      <td>2</td>\n",
       "    </tr>\n",
       "    <tr>\n",
       "      <th>1</th>\n",
       "      <td>HAM_0000118</td>\n",
       "      <td>ISIC_0025030</td>\n",
       "      <td>bkl</td>\n",
       "      <td>histo</td>\n",
       "      <td>80.0</td>\n",
       "      <td>male</td>\n",
       "      <td>scalp</td>\n",
       "      <td>archive\\HAM10000_images\\ISIC_0025030.jpg</td>\n",
       "      <td>Benign keratosis-like lesions</td>\n",
       "      <td>2</td>\n",
       "    </tr>\n",
       "    <tr>\n",
       "      <th>2</th>\n",
       "      <td>HAM_0002730</td>\n",
       "      <td>ISIC_0026769</td>\n",
       "      <td>bkl</td>\n",
       "      <td>histo</td>\n",
       "      <td>80.0</td>\n",
       "      <td>male</td>\n",
       "      <td>scalp</td>\n",
       "      <td>archive\\HAM10000_images\\ISIC_0026769.jpg</td>\n",
       "      <td>Benign keratosis-like lesions</td>\n",
       "      <td>2</td>\n",
       "    </tr>\n",
       "    <tr>\n",
       "      <th>3</th>\n",
       "      <td>HAM_0002730</td>\n",
       "      <td>ISIC_0025661</td>\n",
       "      <td>bkl</td>\n",
       "      <td>histo</td>\n",
       "      <td>80.0</td>\n",
       "      <td>male</td>\n",
       "      <td>scalp</td>\n",
       "      <td>archive\\HAM10000_images\\ISIC_0025661.jpg</td>\n",
       "      <td>Benign keratosis-like lesions</td>\n",
       "      <td>2</td>\n",
       "    </tr>\n",
       "    <tr>\n",
       "      <th>4</th>\n",
       "      <td>HAM_0001466</td>\n",
       "      <td>ISIC_0031633</td>\n",
       "      <td>bkl</td>\n",
       "      <td>histo</td>\n",
       "      <td>75.0</td>\n",
       "      <td>male</td>\n",
       "      <td>ear</td>\n",
       "      <td>archive\\HAM10000_images\\ISIC_0031633.jpg</td>\n",
       "      <td>Benign keratosis-like lesions</td>\n",
       "      <td>2</td>\n",
       "    </tr>\n",
       "  </tbody>\n",
       "</table>\n",
       "</div>"
      ],
      "text/plain": [
       "     lesion_id      image_id   dx dx_type   age   sex localization  \\\n",
       "0  HAM_0000118  ISIC_0027419  bkl   histo  80.0  male        scalp   \n",
       "1  HAM_0000118  ISIC_0025030  bkl   histo  80.0  male        scalp   \n",
       "2  HAM_0002730  ISIC_0026769  bkl   histo  80.0  male        scalp   \n",
       "3  HAM_0002730  ISIC_0025661  bkl   histo  80.0  male        scalp   \n",
       "4  HAM_0001466  ISIC_0031633  bkl   histo  75.0  male          ear   \n",
       "\n",
       "                                       path                       cell_type  \\\n",
       "0  archive\\HAM10000_images\\ISIC_0027419.jpg  Benign keratosis-like lesions    \n",
       "1  archive\\HAM10000_images\\ISIC_0025030.jpg  Benign keratosis-like lesions    \n",
       "2  archive\\HAM10000_images\\ISIC_0026769.jpg  Benign keratosis-like lesions    \n",
       "3  archive\\HAM10000_images\\ISIC_0025661.jpg  Benign keratosis-like lesions    \n",
       "4  archive\\HAM10000_images\\ISIC_0031633.jpg  Benign keratosis-like lesions    \n",
       "\n",
       "   cell_type_idx  \n",
       "0              2  \n",
       "1              2  \n",
       "2              2  \n",
       "3              2  \n",
       "4              2  "
      ]
     },
     "execution_count": 4,
     "metadata": {},
     "output_type": "execute_result"
    }
   ],
   "source": [
    "skin_df.head()"
   ]
  },
  {
   "cell_type": "code",
   "execution_count": 5,
   "id": "52d817d1",
   "metadata": {},
   "outputs": [
    {
     "data": {
      "text/plain": [
       "lesion_id         0\n",
       "image_id          0\n",
       "dx                0\n",
       "dx_type           0\n",
       "age              57\n",
       "sex               0\n",
       "localization      0\n",
       "path              0\n",
       "cell_type         0\n",
       "cell_type_idx     0\n",
       "dtype: int64"
      ]
     },
     "execution_count": 5,
     "metadata": {},
     "output_type": "execute_result"
    }
   ],
   "source": [
    "skin_df.isnull().sum()"
   ]
  },
  {
   "cell_type": "code",
   "execution_count": 6,
   "id": "eca21c2e",
   "metadata": {},
   "outputs": [],
   "source": [
    "skin_df[\"age\"].fillna(np.mean(skin_df[\"age\"]), inplace = True)"
   ]
  },
  {
   "cell_type": "code",
   "execution_count": 7,
   "id": "a2ab9787",
   "metadata": {},
   "outputs": [
    {
     "data": {
      "text/plain": [
       "lesion_id        0\n",
       "image_id         0\n",
       "dx               0\n",
       "dx_type          0\n",
       "age              0\n",
       "sex              0\n",
       "localization     0\n",
       "path             0\n",
       "cell_type        0\n",
       "cell_type_idx    0\n",
       "dtype: int64"
      ]
     },
     "execution_count": 7,
     "metadata": {},
     "output_type": "execute_result"
    }
   ],
   "source": [
    "skin_df.isnull().sum()"
   ]
  },
  {
   "cell_type": "code",
   "execution_count": 8,
   "id": "c3d4abb9",
   "metadata": {},
   "outputs": [],
   "source": [
    "skin_df[\"image\"] = skin_df[\"path\"].map(lambda x: np.asarray(Image.open(x).resize((100,75))))"
   ]
  },
  {
   "cell_type": "code",
   "execution_count": 9,
   "id": "14976309",
   "metadata": {
    "scrolled": true
   },
   "outputs": [
    {
     "data": {
      "text/html": [
       "<div>\n",
       "<style scoped>\n",
       "    .dataframe tbody tr th:only-of-type {\n",
       "        vertical-align: middle;\n",
       "    }\n",
       "\n",
       "    .dataframe tbody tr th {\n",
       "        vertical-align: top;\n",
       "    }\n",
       "\n",
       "    .dataframe thead th {\n",
       "        text-align: right;\n",
       "    }\n",
       "</style>\n",
       "<table border=\"1\" class=\"dataframe\">\n",
       "  <thead>\n",
       "    <tr style=\"text-align: right;\">\n",
       "      <th></th>\n",
       "      <th>lesion_id</th>\n",
       "      <th>image_id</th>\n",
       "      <th>dx</th>\n",
       "      <th>dx_type</th>\n",
       "      <th>age</th>\n",
       "      <th>sex</th>\n",
       "      <th>localization</th>\n",
       "      <th>path</th>\n",
       "      <th>cell_type</th>\n",
       "      <th>cell_type_idx</th>\n",
       "      <th>image</th>\n",
       "    </tr>\n",
       "  </thead>\n",
       "  <tbody>\n",
       "    <tr>\n",
       "      <th>0</th>\n",
       "      <td>HAM_0000118</td>\n",
       "      <td>ISIC_0027419</td>\n",
       "      <td>bkl</td>\n",
       "      <td>histo</td>\n",
       "      <td>80.0</td>\n",
       "      <td>male</td>\n",
       "      <td>scalp</td>\n",
       "      <td>archive\\HAM10000_images\\ISIC_0027419.jpg</td>\n",
       "      <td>Benign keratosis-like lesions</td>\n",
       "      <td>2</td>\n",
       "      <td>[[[190, 153, 194], [192, 154, 196], [191, 153,...</td>\n",
       "    </tr>\n",
       "    <tr>\n",
       "      <th>1</th>\n",
       "      <td>HAM_0000118</td>\n",
       "      <td>ISIC_0025030</td>\n",
       "      <td>bkl</td>\n",
       "      <td>histo</td>\n",
       "      <td>80.0</td>\n",
       "      <td>male</td>\n",
       "      <td>scalp</td>\n",
       "      <td>archive\\HAM10000_images\\ISIC_0025030.jpg</td>\n",
       "      <td>Benign keratosis-like lesions</td>\n",
       "      <td>2</td>\n",
       "      <td>[[[23, 13, 22], [24, 14, 24], [25, 14, 28], [3...</td>\n",
       "    </tr>\n",
       "    <tr>\n",
       "      <th>2</th>\n",
       "      <td>HAM_0002730</td>\n",
       "      <td>ISIC_0026769</td>\n",
       "      <td>bkl</td>\n",
       "      <td>histo</td>\n",
       "      <td>80.0</td>\n",
       "      <td>male</td>\n",
       "      <td>scalp</td>\n",
       "      <td>archive\\HAM10000_images\\ISIC_0026769.jpg</td>\n",
       "      <td>Benign keratosis-like lesions</td>\n",
       "      <td>2</td>\n",
       "      <td>[[[185, 127, 137], [189, 133, 147], [194, 136,...</td>\n",
       "    </tr>\n",
       "    <tr>\n",
       "      <th>3</th>\n",
       "      <td>HAM_0002730</td>\n",
       "      <td>ISIC_0025661</td>\n",
       "      <td>bkl</td>\n",
       "      <td>histo</td>\n",
       "      <td>80.0</td>\n",
       "      <td>male</td>\n",
       "      <td>scalp</td>\n",
       "      <td>archive\\HAM10000_images\\ISIC_0025661.jpg</td>\n",
       "      <td>Benign keratosis-like lesions</td>\n",
       "      <td>2</td>\n",
       "      <td>[[[24, 11, 17], [26, 13, 22], [38, 21, 32], [5...</td>\n",
       "    </tr>\n",
       "    <tr>\n",
       "      <th>4</th>\n",
       "      <td>HAM_0001466</td>\n",
       "      <td>ISIC_0031633</td>\n",
       "      <td>bkl</td>\n",
       "      <td>histo</td>\n",
       "      <td>75.0</td>\n",
       "      <td>male</td>\n",
       "      <td>ear</td>\n",
       "      <td>archive\\HAM10000_images\\ISIC_0031633.jpg</td>\n",
       "      <td>Benign keratosis-like lesions</td>\n",
       "      <td>2</td>\n",
       "      <td>[[[134, 90, 113], [147, 102, 125], [159, 115, ...</td>\n",
       "    </tr>\n",
       "  </tbody>\n",
       "</table>\n",
       "</div>"
      ],
      "text/plain": [
       "     lesion_id      image_id   dx dx_type   age   sex localization  \\\n",
       "0  HAM_0000118  ISIC_0027419  bkl   histo  80.0  male        scalp   \n",
       "1  HAM_0000118  ISIC_0025030  bkl   histo  80.0  male        scalp   \n",
       "2  HAM_0002730  ISIC_0026769  bkl   histo  80.0  male        scalp   \n",
       "3  HAM_0002730  ISIC_0025661  bkl   histo  80.0  male        scalp   \n",
       "4  HAM_0001466  ISIC_0031633  bkl   histo  75.0  male          ear   \n",
       "\n",
       "                                       path                       cell_type  \\\n",
       "0  archive\\HAM10000_images\\ISIC_0027419.jpg  Benign keratosis-like lesions    \n",
       "1  archive\\HAM10000_images\\ISIC_0025030.jpg  Benign keratosis-like lesions    \n",
       "2  archive\\HAM10000_images\\ISIC_0026769.jpg  Benign keratosis-like lesions    \n",
       "3  archive\\HAM10000_images\\ISIC_0025661.jpg  Benign keratosis-like lesions    \n",
       "4  archive\\HAM10000_images\\ISIC_0031633.jpg  Benign keratosis-like lesions    \n",
       "\n",
       "   cell_type_idx                                              image  \n",
       "0              2  [[[190, 153, 194], [192, 154, 196], [191, 153,...  \n",
       "1              2  [[[23, 13, 22], [24, 14, 24], [25, 14, 28], [3...  \n",
       "2              2  [[[185, 127, 137], [189, 133, 147], [194, 136,...  \n",
       "3              2  [[[24, 11, 17], [26, 13, 22], [38, 21, 32], [5...  \n",
       "4              2  [[[134, 90, 113], [147, 102, 125], [159, 115, ...  "
      ]
     },
     "execution_count": 9,
     "metadata": {},
     "output_type": "execute_result"
    }
   ],
   "source": [
    "skin_df.head()"
   ]
  },
  {
   "cell_type": "code",
   "execution_count": 10,
   "id": "976abe26",
   "metadata": {},
   "outputs": [
    {
     "data": {
      "text/plain": [
       "(75, 100, 3)    10015\n",
       "Name: image, dtype: int64"
      ]
     },
     "execution_count": 10,
     "metadata": {},
     "output_type": "execute_result"
    }
   ],
   "source": [
    "skin_df['image'].map(lambda x: x.shape).value_counts()"
   ]
  },
  {
   "cell_type": "code",
   "execution_count": 11,
   "id": "e106bea7",
   "metadata": {},
   "outputs": [],
   "source": [
    "features = skin_df.drop(columns=['cell_type_idx'],axis=1)\n",
    "target = skin_df['cell_type_idx']"
   ]
  },
  {
   "cell_type": "code",
   "execution_count": 12,
   "id": "230078fa",
   "metadata": {},
   "outputs": [],
   "source": [
    "x_train, x_test, y_train, y_test = train_test_split(features, target, test_size = 0.25, random_state = 1234)"
   ]
  },
  {
   "cell_type": "code",
   "execution_count": 13,
   "id": "f9ba75aa",
   "metadata": {},
   "outputs": [],
   "source": [
    "x_train = np.asarray(x_train['image'].tolist())\n",
    "x_test = np.asarray(x_test[\"image\"].tolist())"
   ]
  },
  {
   "cell_type": "code",
   "execution_count": 17,
   "id": "e7621017",
   "metadata": {},
   "outputs": [],
   "source": [
    "y_train = to_categorical(y_train, num_classes = 7)\n",
    "y_test = to_categorical(y_test, num_classes = 7)"
   ]
  },
  {
   "cell_type": "code",
   "execution_count": 18,
   "id": "d145435f",
   "metadata": {},
   "outputs": [],
   "source": [
    "x_train_mean = np.mean(x_train)\n",
    "x_train_std = np.std(x_train)\n",
    "\n",
    "x_test_mean = np.mean(x_test)\n",
    "x_test_std = np.std(x_test)\n",
    "\n",
    "x_train = (x_train - x_train_mean)/x_train_std\n",
    "x_test = (x_test - x_test_mean)/x_test_std"
   ]
  },
  {
   "cell_type": "code",
   "execution_count": 19,
   "id": "a310ea3b",
   "metadata": {},
   "outputs": [],
   "source": [
    "x_train, x_validate, y_train, y_validate = train_test_split(x_train, y_train, test_size = 0.1, random_state = 2)"
   ]
  },
  {
   "cell_type": "code",
   "execution_count": 20,
   "id": "9a80eacc",
   "metadata": {},
   "outputs": [],
   "source": [
    "# Reshape image in 3 dimensions (height = 75px, width = 100px , canal = 3)\n",
    "x_train = x_train.reshape(x_train.shape[0], *(75, 100, 3))\n",
    "x_test = x_test.reshape(x_test.shape[0], *(75, 100, 3))\n",
    "x_validate = x_validate.reshape(x_validate.shape[0], *(75, 100, 3))"
   ]
  },
  {
   "cell_type": "code",
   "execution_count": 25,
   "id": "4a7083fe",
   "metadata": {},
   "outputs": [
    {
     "name": "stdout",
     "output_type": "stream",
     "text": [
      "Model: \"sequential_4\"\n",
      "_________________________________________________________________\n",
      " Layer (type)                Output Shape              Param #   \n",
      "=================================================================\n",
      " conv2d_2 (Conv2D)           (None, 75, 100, 32)       896       \n",
      "                                                                 \n",
      " conv2d_3 (Conv2D)           (None, 75, 100, 32)       9248      \n",
      "                                                                 \n",
      " max_pooling2d (MaxPooling2D  (None, 37, 50, 32)       0         \n",
      " )                                                               \n",
      "                                                                 \n",
      " dropout (Dropout)           (None, 37, 50, 32)        0         \n",
      "                                                                 \n",
      " conv2d_4 (Conv2D)           (None, 37, 50, 64)        18496     \n",
      "                                                                 \n",
      " conv2d_5 (Conv2D)           (None, 37, 50, 64)        36928     \n",
      "                                                                 \n",
      " max_pooling2d_1 (MaxPooling  (None, 18, 25, 64)       0         \n",
      " 2D)                                                             \n",
      "                                                                 \n",
      " dropout_1 (Dropout)         (None, 18, 25, 64)        0         \n",
      "                                                                 \n",
      " flatten (Flatten)           (None, 28800)             0         \n",
      "                                                                 \n",
      " dense (Dense)               (None, 128)               3686528   \n",
      "                                                                 \n",
      " dropout_2 (Dropout)         (None, 128)               0         \n",
      "                                                                 \n",
      " dense_1 (Dense)             (None, 7)                 903       \n",
      "                                                                 \n",
      "=================================================================\n",
      "Total params: 3,752,999\n",
      "Trainable params: 3,752,999\n",
      "Non-trainable params: 0\n",
      "_________________________________________________________________\n"
     ]
    }
   ],
   "source": [
    "input_shape = (75,100,3)\n",
    "num_classes = 7\n",
    "model = tf.keras.Sequential()\n",
    "\n",
    "model.add(tf.keras.layers.Conv2D(32, kernel_size=(3,3), activation = \"relu\", input_shape=input_shape, padding = \"same\"))\n",
    "model.add(tf.keras.layers.Conv2D(32,kernel_size=(3, 3), activation='relu',padding = 'Same',))\n",
    "model.add(tf.keras.layers.MaxPool2D(pool_size=(2,2)))\n",
    "model.add(tf.keras.layers.Dropout(0.25))\n",
    "\n",
    "model.add(tf.keras.layers.Conv2D(64, (3, 3), activation='relu',padding = 'Same'))\n",
    "model.add(tf.keras.layers.Conv2D(64, (3, 3), activation='relu',padding = 'Same'))\n",
    "model.add(tf.keras.layers.MaxPool2D(pool_size=(2, 2)))\n",
    "model.add(tf.keras.layers.Dropout(0.40))\n",
    "\n",
    "model.add(tf.keras.layers.Flatten())\n",
    "model.add(tf.keras.layers.Dense(128, activation='relu'))\n",
    "model.add(tf.keras.layers.Dropout(0.5))\n",
    "model.add(tf.keras.layers.Dense(num_classes, activation='softmax'))\n",
    "model.summary()"
   ]
  },
  {
   "cell_type": "code",
   "execution_count": 26,
   "id": "1f9a4277",
   "metadata": {},
   "outputs": [],
   "source": [
    "optimizer = tf.keras.optimizers.Adam(learning_rate=0.001, beta_1=0.9, beta_2=0.999,)"
   ]
  },
  {
   "cell_type": "code",
   "execution_count": 27,
   "id": "d99415b1",
   "metadata": {},
   "outputs": [],
   "source": [
    "model.compile(optimizer = optimizer , loss = \"categorical_crossentropy\", metrics=[\"accuracy\"])"
   ]
  },
  {
   "cell_type": "code",
   "execution_count": 28,
   "id": "6208769c",
   "metadata": {},
   "outputs": [],
   "source": [
    "learning_rate_reduction = tf.keras.callbacks.ReduceLROnPlateau(monitor='val_acc', patience=3, verbose=1, factor=0.5, min_lr=0.00001)"
   ]
  },
  {
   "cell_type": "code",
   "execution_count": 29,
   "id": "2694f092",
   "metadata": {},
   "outputs": [],
   "source": [
    "datagen = tf.keras.preprocessing.image.ImageDataGenerator( featurewise_center=False,  # set input mean to 0 over the dataset\n",
    "        samplewise_center=False,  # set each sample mean to 0\n",
    "        featurewise_std_normalization=False,  # divide inputs by std of the dataset\n",
    "        samplewise_std_normalization=False,  # divide each input by its std\n",
    "        zca_whitening=False,  # apply ZCA whitening\n",
    "        rotation_range=10,  # randomly rotate images in the range (degrees, 0 to 180)\n",
    "        zoom_range = 0.3, # Randomly zoom image \n",
    "        width_shift_range=0.2,  # randomly shift images horizontally (fraction of total width)\n",
    "        height_shift_range=0.2,  # randomly shift images vertically (fraction of total height)\n",
    "        horizontal_flip=True,  # randomly flip images\n",
    "        vertical_flip=False)\n",
    "datagen.fit(x_train)"
   ]
  },
  {
   "cell_type": "code",
   "execution_count": 30,
   "id": "fb89bfcb",
   "metadata": {},
   "outputs": [
    {
     "name": "stderr",
     "output_type": "stream",
     "text": [
      "C:\\Users\\Acer\\AppData\\Local\\Temp\\ipykernel_44108\\3088845468.py:3: UserWarning: `Model.fit_generator` is deprecated and will be removed in a future version. Please use `Model.fit`, which supports generators.\n",
      "  history = model.fit_generator(datagen.flow(x_train,y_train, batch_size=batch_size),\n"
     ]
    },
    {
     "name": "stdout",
     "output_type": "stream",
     "text": [
      "Epoch 1/64\n",
      "675/675 [==============================] - ETA: 0s - loss: 1.0505 - accuracy: 0.6665WARNING:tensorflow:Learning rate reduction is conditioned on metric `val_acc` which is not available. Available metrics are: loss,accuracy,val_loss,val_accuracy,lr\n",
      "675/675 [==============================] - 132s 194ms/step - loss: 1.0505 - accuracy: 0.6665 - val_loss: 0.9225 - val_accuracy: 0.6742 - lr: 0.0010\n",
      "Epoch 2/64\n",
      "675/675 [==============================] - ETA: 0s - loss: 0.9709 - accuracy: 0.6694WARNING:tensorflow:Learning rate reduction is conditioned on metric `val_acc` which is not available. Available metrics are: loss,accuracy,val_loss,val_accuracy,lr\n",
      "675/675 [==============================] - 124s 184ms/step - loss: 0.9709 - accuracy: 0.6694 - val_loss: 0.9286 - val_accuracy: 0.6742 - lr: 0.0010\n",
      "Epoch 3/64\n",
      "675/675 [==============================] - ETA: 0s - loss: 0.9452 - accuracy: 0.6699WARNING:tensorflow:Learning rate reduction is conditioned on metric `val_acc` which is not available. Available metrics are: loss,accuracy,val_loss,val_accuracy,lr\n",
      "675/675 [==============================] - 122s 181ms/step - loss: 0.9452 - accuracy: 0.6699 - val_loss: 0.9066 - val_accuracy: 0.6755 - lr: 0.0010\n",
      "Epoch 4/64\n",
      "675/675 [==============================] - ETA: 0s - loss: 0.9024 - accuracy: 0.6725WARNING:tensorflow:Learning rate reduction is conditioned on metric `val_acc` which is not available. Available metrics are: loss,accuracy,val_loss,val_accuracy,lr\n",
      "675/675 [==============================] - 121s 179ms/step - loss: 0.9024 - accuracy: 0.6725 - val_loss: 0.8735 - val_accuracy: 0.6782 - lr: 0.0010\n",
      "Epoch 5/64\n",
      "675/675 [==============================] - ETA: 0s - loss: 0.8824 - accuracy: 0.6773WARNING:tensorflow:Learning rate reduction is conditioned on metric `val_acc` which is not available. Available metrics are: loss,accuracy,val_loss,val_accuracy,lr\n",
      "675/675 [==============================] - 124s 184ms/step - loss: 0.8824 - accuracy: 0.6773 - val_loss: 0.8327 - val_accuracy: 0.6862 - lr: 0.0010\n",
      "Epoch 6/64\n",
      "675/675 [==============================] - ETA: 0s - loss: 0.8639 - accuracy: 0.6828WARNING:tensorflow:Learning rate reduction is conditioned on metric `val_acc` which is not available. Available metrics are: loss,accuracy,val_loss,val_accuracy,lr\n",
      "675/675 [==============================] - 120s 178ms/step - loss: 0.8639 - accuracy: 0.6828 - val_loss: 0.8302 - val_accuracy: 0.6888 - lr: 0.0010\n",
      "Epoch 7/64\n",
      "675/675 [==============================] - ETA: 0s - loss: 0.8639 - accuracy: 0.6816WARNING:tensorflow:Learning rate reduction is conditioned on metric `val_acc` which is not available. Available metrics are: loss,accuracy,val_loss,val_accuracy,lr\n",
      "675/675 [==============================] - 124s 183ms/step - loss: 0.8639 - accuracy: 0.6816 - val_loss: 0.8120 - val_accuracy: 0.6968 - lr: 0.0010\n",
      "Epoch 8/64\n",
      "675/675 [==============================] - ETA: 0s - loss: 0.8469 - accuracy: 0.6845WARNING:tensorflow:Learning rate reduction is conditioned on metric `val_acc` which is not available. Available metrics are: loss,accuracy,val_loss,val_accuracy,lr\n",
      "675/675 [==============================] - 120s 178ms/step - loss: 0.8469 - accuracy: 0.6845 - val_loss: 0.8304 - val_accuracy: 0.7061 - lr: 0.0010\n",
      "Epoch 9/64\n",
      "675/675 [==============================] - ETA: 0s - loss: 0.8369 - accuracy: 0.6927WARNING:tensorflow:Learning rate reduction is conditioned on metric `val_acc` which is not available. Available metrics are: loss,accuracy,val_loss,val_accuracy,lr\n",
      "675/675 [==============================] - 120s 178ms/step - loss: 0.8369 - accuracy: 0.6927 - val_loss: 0.7598 - val_accuracy: 0.7207 - lr: 0.0010\n",
      "Epoch 10/64\n",
      "675/675 [==============================] - ETA: 0s - loss: 0.8240 - accuracy: 0.6985WARNING:tensorflow:Learning rate reduction is conditioned on metric `val_acc` which is not available. Available metrics are: loss,accuracy,val_loss,val_accuracy,lr\n",
      "675/675 [==============================] - 121s 180ms/step - loss: 0.8240 - accuracy: 0.6985 - val_loss: 0.7673 - val_accuracy: 0.7128 - lr: 0.0010\n",
      "Epoch 11/64\n",
      "675/675 [==============================] - ETA: 0s - loss: 0.8155 - accuracy: 0.6973WARNING:tensorflow:Learning rate reduction is conditioned on metric `val_acc` which is not available. Available metrics are: loss,accuracy,val_loss,val_accuracy,lr\n",
      "675/675 [==============================] - 129s 191ms/step - loss: 0.8155 - accuracy: 0.6973 - val_loss: 0.8385 - val_accuracy: 0.6915 - lr: 0.0010\n",
      "Epoch 12/64\n",
      "675/675 [==============================] - ETA: 0s - loss: 0.8070 - accuracy: 0.7008WARNING:tensorflow:Learning rate reduction is conditioned on metric `val_acc` which is not available. Available metrics are: loss,accuracy,val_loss,val_accuracy,lr\n",
      "675/675 [==============================] - 121s 179ms/step - loss: 0.8070 - accuracy: 0.7008 - val_loss: 0.7585 - val_accuracy: 0.7194 - lr: 0.0010\n",
      "Epoch 13/64\n",
      "675/675 [==============================] - ETA: 0s - loss: 0.8021 - accuracy: 0.7008WARNING:tensorflow:Learning rate reduction is conditioned on metric `val_acc` which is not available. Available metrics are: loss,accuracy,val_loss,val_accuracy,lr\n",
      "675/675 [==============================] - 121s 179ms/step - loss: 0.8021 - accuracy: 0.7008 - val_loss: 0.7425 - val_accuracy: 0.7261 - lr: 0.0010\n",
      "Epoch 14/64\n",
      "675/675 [==============================] - ETA: 0s - loss: 0.7946 - accuracy: 0.7081WARNING:tensorflow:Learning rate reduction is conditioned on metric `val_acc` which is not available. Available metrics are: loss,accuracy,val_loss,val_accuracy,lr\n",
      "675/675 [==============================] - 120s 178ms/step - loss: 0.7946 - accuracy: 0.7081 - val_loss: 0.7345 - val_accuracy: 0.7221 - lr: 0.0010\n",
      "Epoch 15/64\n",
      "675/675 [==============================] - ETA: 0s - loss: 0.7872 - accuracy: 0.7130WARNING:tensorflow:Learning rate reduction is conditioned on metric `val_acc` which is not available. Available metrics are: loss,accuracy,val_loss,val_accuracy,lr\n",
      "675/675 [==============================] - 120s 178ms/step - loss: 0.7872 - accuracy: 0.7130 - val_loss: 0.7526 - val_accuracy: 0.7088 - lr: 0.0010\n",
      "Epoch 16/64\n",
      "675/675 [==============================] - ETA: 0s - loss: 0.7802 - accuracy: 0.7174WARNING:tensorflow:Learning rate reduction is conditioned on metric `val_acc` which is not available. Available metrics are: loss,accuracy,val_loss,val_accuracy,lr\n",
      "675/675 [==============================] - 121s 179ms/step - loss: 0.7802 - accuracy: 0.7174 - val_loss: 0.7191 - val_accuracy: 0.7261 - lr: 0.0010\n",
      "Epoch 17/64\n",
      "675/675 [==============================] - ETA: 0s - loss: 0.7718 - accuracy: 0.7130WARNING:tensorflow:Learning rate reduction is conditioned on metric `val_acc` which is not available. Available metrics are: loss,accuracy,val_loss,val_accuracy,lr\n",
      "675/675 [==============================] - 123s 183ms/step - loss: 0.7718 - accuracy: 0.7130 - val_loss: 0.7406 - val_accuracy: 0.7154 - lr: 0.0010\n",
      "Epoch 18/64\n",
      "675/675 [==============================] - ETA: 0s - loss: 0.7836 - accuracy: 0.7125WARNING:tensorflow:Learning rate reduction is conditioned on metric `val_acc` which is not available. Available metrics are: loss,accuracy,val_loss,val_accuracy,lr\n",
      "675/675 [==============================] - 136s 201ms/step - loss: 0.7836 - accuracy: 0.7125 - val_loss: 0.7295 - val_accuracy: 0.7221 - lr: 0.0010\n",
      "Epoch 19/64\n",
      "675/675 [==============================] - ETA: 0s - loss: 0.7757 - accuracy: 0.7127WARNING:tensorflow:Learning rate reduction is conditioned on metric `val_acc` which is not available. Available metrics are: loss,accuracy,val_loss,val_accuracy,lr\n",
      "675/675 [==============================] - 137s 203ms/step - loss: 0.7757 - accuracy: 0.7127 - val_loss: 0.7256 - val_accuracy: 0.7221 - lr: 0.0010\n",
      "Epoch 20/64\n",
      "675/675 [==============================] - ETA: 0s - loss: 0.7747 - accuracy: 0.7155WARNING:tensorflow:Learning rate reduction is conditioned on metric `val_acc` which is not available. Available metrics are: loss,accuracy,val_loss,val_accuracy,lr\n",
      "675/675 [==============================] - 139s 206ms/step - loss: 0.7747 - accuracy: 0.7155 - val_loss: 0.7190 - val_accuracy: 0.7287 - lr: 0.0010\n",
      "Epoch 21/64\n"
     ]
    },
    {
     "name": "stdout",
     "output_type": "stream",
     "text": [
      "675/675 [==============================] - ETA: 0s - loss: 0.7562 - accuracy: 0.7243WARNING:tensorflow:Learning rate reduction is conditioned on metric `val_acc` which is not available. Available metrics are: loss,accuracy,val_loss,val_accuracy,lr\n",
      "675/675 [==============================] - 134s 199ms/step - loss: 0.7562 - accuracy: 0.7243 - val_loss: 0.7121 - val_accuracy: 0.7301 - lr: 0.0010\n",
      "Epoch 22/64\n",
      "675/675 [==============================] - ETA: 0s - loss: 0.7613 - accuracy: 0.7234WARNING:tensorflow:Learning rate reduction is conditioned on metric `val_acc` which is not available. Available metrics are: loss,accuracy,val_loss,val_accuracy,lr\n",
      "675/675 [==============================] - 124s 183ms/step - loss: 0.7613 - accuracy: 0.7234 - val_loss: 0.7249 - val_accuracy: 0.7274 - lr: 0.0010\n",
      "Epoch 23/64\n",
      "675/675 [==============================] - ETA: 0s - loss: 0.7578 - accuracy: 0.7204WARNING:tensorflow:Learning rate reduction is conditioned on metric `val_acc` which is not available. Available metrics are: loss,accuracy,val_loss,val_accuracy,lr\n",
      "675/675 [==============================] - 127s 188ms/step - loss: 0.7578 - accuracy: 0.7204 - val_loss: 0.7781 - val_accuracy: 0.7074 - lr: 0.0010\n",
      "Epoch 24/64\n",
      "675/675 [==============================] - ETA: 0s - loss: 0.7479 - accuracy: 0.7262WARNING:tensorflow:Learning rate reduction is conditioned on metric `val_acc` which is not available. Available metrics are: loss,accuracy,val_loss,val_accuracy,lr\n",
      "675/675 [==============================] - 123s 182ms/step - loss: 0.7479 - accuracy: 0.7262 - val_loss: 0.7552 - val_accuracy: 0.7181 - lr: 0.0010\n",
      "Epoch 25/64\n",
      "675/675 [==============================] - ETA: 0s - loss: 0.7496 - accuracy: 0.7186WARNING:tensorflow:Learning rate reduction is conditioned on metric `val_acc` which is not available. Available metrics are: loss,accuracy,val_loss,val_accuracy,lr\n",
      "675/675 [==============================] - 125s 185ms/step - loss: 0.7496 - accuracy: 0.7186 - val_loss: 0.7169 - val_accuracy: 0.7287 - lr: 0.0010\n",
      "Epoch 26/64\n",
      "675/675 [==============================] - ETA: 0s - loss: 0.7500 - accuracy: 0.7208WARNING:tensorflow:Learning rate reduction is conditioned on metric `val_acc` which is not available. Available metrics are: loss,accuracy,val_loss,val_accuracy,lr\n",
      "675/675 [==============================] - 124s 184ms/step - loss: 0.7500 - accuracy: 0.7208 - val_loss: 0.7048 - val_accuracy: 0.7394 - lr: 0.0010\n",
      "Epoch 27/64\n",
      "675/675 [==============================] - ETA: 0s - loss: 0.7552 - accuracy: 0.7244WARNING:tensorflow:Learning rate reduction is conditioned on metric `val_acc` which is not available. Available metrics are: loss,accuracy,val_loss,val_accuracy,lr\n",
      "675/675 [==============================] - 119s 177ms/step - loss: 0.7552 - accuracy: 0.7244 - val_loss: 0.7622 - val_accuracy: 0.7207 - lr: 0.0010\n",
      "Epoch 28/64\n",
      "675/675 [==============================] - ETA: 0s - loss: 0.7483 - accuracy: 0.7207WARNING:tensorflow:Learning rate reduction is conditioned on metric `val_acc` which is not available. Available metrics are: loss,accuracy,val_loss,val_accuracy,lr\n",
      "675/675 [==============================] - 120s 178ms/step - loss: 0.7483 - accuracy: 0.7207 - val_loss: 0.7371 - val_accuracy: 0.7261 - lr: 0.0010\n",
      "Epoch 29/64\n",
      "675/675 [==============================] - ETA: 0s - loss: 0.7527 - accuracy: 0.7237WARNING:tensorflow:Learning rate reduction is conditioned on metric `val_acc` which is not available. Available metrics are: loss,accuracy,val_loss,val_accuracy,lr\n",
      "675/675 [==============================] - 121s 179ms/step - loss: 0.7527 - accuracy: 0.7237 - val_loss: 0.7190 - val_accuracy: 0.7420 - lr: 0.0010\n",
      "Epoch 30/64\n",
      "675/675 [==============================] - ETA: 0s - loss: 0.7363 - accuracy: 0.7274WARNING:tensorflow:Learning rate reduction is conditioned on metric `val_acc` which is not available. Available metrics are: loss,accuracy,val_loss,val_accuracy,lr\n",
      "675/675 [==============================] - 121s 179ms/step - loss: 0.7363 - accuracy: 0.7274 - val_loss: 0.7302 - val_accuracy: 0.7327 - lr: 0.0010\n",
      "Epoch 31/64\n",
      "675/675 [==============================] - ETA: 0s - loss: 0.7589 - accuracy: 0.7253WARNING:tensorflow:Learning rate reduction is conditioned on metric `val_acc` which is not available. Available metrics are: loss,accuracy,val_loss,val_accuracy,lr\n",
      "675/675 [==============================] - 120s 178ms/step - loss: 0.7589 - accuracy: 0.7253 - val_loss: 0.7132 - val_accuracy: 0.7287 - lr: 0.0010\n",
      "Epoch 32/64\n",
      "675/675 [==============================] - ETA: 0s - loss: 0.7425 - accuracy: 0.7272WARNING:tensorflow:Learning rate reduction is conditioned on metric `val_acc` which is not available. Available metrics are: loss,accuracy,val_loss,val_accuracy,lr\n",
      "675/675 [==============================] - 120s 178ms/step - loss: 0.7425 - accuracy: 0.7272 - val_loss: 0.7233 - val_accuracy: 0.7420 - lr: 0.0010\n",
      "Epoch 33/64\n",
      "675/675 [==============================] - ETA: 0s - loss: 0.7503 - accuracy: 0.7263WARNING:tensorflow:Learning rate reduction is conditioned on metric `val_acc` which is not available. Available metrics are: loss,accuracy,val_loss,val_accuracy,lr\n",
      "675/675 [==============================] - 120s 178ms/step - loss: 0.7503 - accuracy: 0.7263 - val_loss: 0.7937 - val_accuracy: 0.7035 - lr: 0.0010\n",
      "Epoch 34/64\n",
      "675/675 [==============================] - ETA: 0s - loss: 0.7338 - accuracy: 0.7299WARNING:tensorflow:Learning rate reduction is conditioned on metric `val_acc` which is not available. Available metrics are: loss,accuracy,val_loss,val_accuracy,lr\n",
      "675/675 [==============================] - 121s 179ms/step - loss: 0.7338 - accuracy: 0.7299 - val_loss: 0.7152 - val_accuracy: 0.7340 - lr: 0.0010\n",
      "Epoch 35/64\n",
      "675/675 [==============================] - ETA: 0s - loss: 0.7415 - accuracy: 0.7271WARNING:tensorflow:Learning rate reduction is conditioned on metric `val_acc` which is not available. Available metrics are: loss,accuracy,val_loss,val_accuracy,lr\n",
      "675/675 [==============================] - 120s 178ms/step - loss: 0.7415 - accuracy: 0.7271 - val_loss: 0.7526 - val_accuracy: 0.7181 - lr: 0.0010\n",
      "Epoch 36/64\n",
      "675/675 [==============================] - ETA: 0s - loss: 0.7473 - accuracy: 0.7293WARNING:tensorflow:Learning rate reduction is conditioned on metric `val_acc` which is not available. Available metrics are: loss,accuracy,val_loss,val_accuracy,lr\n",
      "675/675 [==============================] - 121s 180ms/step - loss: 0.7473 - accuracy: 0.7293 - val_loss: 0.8092 - val_accuracy: 0.7234 - lr: 0.0010\n",
      "Epoch 37/64\n",
      "675/675 [==============================] - ETA: 0s - loss: 0.7529 - accuracy: 0.7248WARNING:tensorflow:Learning rate reduction is conditioned on metric `val_acc` which is not available. Available metrics are: loss,accuracy,val_loss,val_accuracy,lr\n",
      "675/675 [==============================] - 120s 178ms/step - loss: 0.7529 - accuracy: 0.7248 - val_loss: 0.7753 - val_accuracy: 0.7194 - lr: 0.0010\n",
      "Epoch 38/64\n",
      "675/675 [==============================] - ETA: 0s - loss: 0.7398 - accuracy: 0.7259WARNING:tensorflow:Learning rate reduction is conditioned on metric `val_acc` which is not available. Available metrics are: loss,accuracy,val_loss,val_accuracy,lr\n",
      "675/675 [==============================] - 119s 176ms/step - loss: 0.7398 - accuracy: 0.7259 - val_loss: 0.7589 - val_accuracy: 0.7207 - lr: 0.0010\n",
      "Epoch 39/64\n",
      "675/675 [==============================] - ETA: 0s - loss: 0.7351 - accuracy: 0.7323WARNING:tensorflow:Learning rate reduction is conditioned on metric `val_acc` which is not available. Available metrics are: loss,accuracy,val_loss,val_accuracy,lr\n",
      "675/675 [==============================] - 118s 175ms/step - loss: 0.7351 - accuracy: 0.7323 - val_loss: 0.7376 - val_accuracy: 0.7380 - lr: 0.0010\n",
      "Epoch 40/64\n",
      "675/675 [==============================] - ETA: 0s - loss: 0.7341 - accuracy: 0.7302WARNING:tensorflow:Learning rate reduction is conditioned on metric `val_acc` which is not available. Available metrics are: loss,accuracy,val_loss,val_accuracy,lr\n",
      "675/675 [==============================] - 118s 175ms/step - loss: 0.7341 - accuracy: 0.7302 - val_loss: 0.7542 - val_accuracy: 0.7327 - lr: 0.0010\n",
      "Epoch 41/64\n"
     ]
    },
    {
     "name": "stdout",
     "output_type": "stream",
     "text": [
      "675/675 [==============================] - ETA: 0s - loss: 0.7296 - accuracy: 0.7363WARNING:tensorflow:Learning rate reduction is conditioned on metric `val_acc` which is not available. Available metrics are: loss,accuracy,val_loss,val_accuracy,lr\n",
      "675/675 [==============================] - 119s 176ms/step - loss: 0.7296 - accuracy: 0.7363 - val_loss: 0.7570 - val_accuracy: 0.7247 - lr: 0.0010\n",
      "Epoch 42/64\n",
      "675/675 [==============================] - ETA: 0s - loss: 0.7337 - accuracy: 0.7283WARNING:tensorflow:Learning rate reduction is conditioned on metric `val_acc` which is not available. Available metrics are: loss,accuracy,val_loss,val_accuracy,lr\n",
      "675/675 [==============================] - 124s 183ms/step - loss: 0.7337 - accuracy: 0.7283 - val_loss: 0.7550 - val_accuracy: 0.7274 - lr: 0.0010\n",
      "Epoch 43/64\n",
      "675/675 [==============================] - ETA: 0s - loss: 0.7364 - accuracy: 0.7262WARNING:tensorflow:Learning rate reduction is conditioned on metric `val_acc` which is not available. Available metrics are: loss,accuracy,val_loss,val_accuracy,lr\n",
      "675/675 [==============================] - 122s 180ms/step - loss: 0.7364 - accuracy: 0.7262 - val_loss: 0.7424 - val_accuracy: 0.7367 - lr: 0.0010\n",
      "Epoch 44/64\n",
      "675/675 [==============================] - ETA: 0s - loss: 0.7131 - accuracy: 0.7294WARNING:tensorflow:Learning rate reduction is conditioned on metric `val_acc` which is not available. Available metrics are: loss,accuracy,val_loss,val_accuracy,lr\n",
      "675/675 [==============================] - 122s 180ms/step - loss: 0.7131 - accuracy: 0.7294 - val_loss: 0.7218 - val_accuracy: 0.7221 - lr: 0.0010\n",
      "Epoch 45/64\n",
      "675/675 [==============================] - ETA: 0s - loss: 0.7271 - accuracy: 0.7379WARNING:tensorflow:Learning rate reduction is conditioned on metric `val_acc` which is not available. Available metrics are: loss,accuracy,val_loss,val_accuracy,lr\n",
      "675/675 [==============================] - 121s 180ms/step - loss: 0.7271 - accuracy: 0.7379 - val_loss: 0.7260 - val_accuracy: 0.7301 - lr: 0.0010\n",
      "Epoch 46/64\n",
      "675/675 [==============================] - ETA: 0s - loss: 0.7266 - accuracy: 0.7327WARNING:tensorflow:Learning rate reduction is conditioned on metric `val_acc` which is not available. Available metrics are: loss,accuracy,val_loss,val_accuracy,lr\n",
      "675/675 [==============================] - 122s 181ms/step - loss: 0.7266 - accuracy: 0.7327 - val_loss: 0.6965 - val_accuracy: 0.7434 - lr: 0.0010\n",
      "Epoch 47/64\n",
      "675/675 [==============================] - ETA: 0s - loss: 0.7242 - accuracy: 0.7336WARNING:tensorflow:Learning rate reduction is conditioned on metric `val_acc` which is not available. Available metrics are: loss,accuracy,val_loss,val_accuracy,lr\n",
      "675/675 [==============================] - 122s 180ms/step - loss: 0.7242 - accuracy: 0.7336 - val_loss: 0.6880 - val_accuracy: 0.7380 - lr: 0.0010\n",
      "Epoch 48/64\n",
      "675/675 [==============================] - ETA: 0s - loss: 0.7206 - accuracy: 0.7414WARNING:tensorflow:Learning rate reduction is conditioned on metric `val_acc` which is not available. Available metrics are: loss,accuracy,val_loss,val_accuracy,lr\n",
      "675/675 [==============================] - 121s 179ms/step - loss: 0.7206 - accuracy: 0.7414 - val_loss: 0.8177 - val_accuracy: 0.6981 - lr: 0.0010\n",
      "Epoch 49/64\n",
      "675/675 [==============================] - ETA: 0s - loss: 0.7338 - accuracy: 0.7346WARNING:tensorflow:Learning rate reduction is conditioned on metric `val_acc` which is not available. Available metrics are: loss,accuracy,val_loss,val_accuracy,lr\n",
      "675/675 [==============================] - 123s 182ms/step - loss: 0.7338 - accuracy: 0.7346 - val_loss: 0.7364 - val_accuracy: 0.7380 - lr: 0.0010\n",
      "Epoch 50/64\n",
      "675/675 [==============================] - ETA: 0s - loss: 0.7508 - accuracy: 0.7318WARNING:tensorflow:Learning rate reduction is conditioned on metric `val_acc` which is not available. Available metrics are: loss,accuracy,val_loss,val_accuracy,lr\n",
      "675/675 [==============================] - 131s 194ms/step - loss: 0.7508 - accuracy: 0.7318 - val_loss: 0.7296 - val_accuracy: 0.7354 - lr: 0.0010\n",
      "Epoch 51/64\n",
      "675/675 [==============================] - ETA: 0s - loss: 0.7235 - accuracy: 0.7348WARNING:tensorflow:Learning rate reduction is conditioned on metric `val_acc` which is not available. Available metrics are: loss,accuracy,val_loss,val_accuracy,lr\n",
      "675/675 [==============================] - 123s 182ms/step - loss: 0.7235 - accuracy: 0.7348 - val_loss: 0.7273 - val_accuracy: 0.7274 - lr: 0.0010\n",
      "Epoch 52/64\n",
      "675/675 [==============================] - ETA: 0s - loss: 0.7229 - accuracy: 0.7334WARNING:tensorflow:Learning rate reduction is conditioned on metric `val_acc` which is not available. Available metrics are: loss,accuracy,val_loss,val_accuracy,lr\n",
      "675/675 [==============================] - 122s 181ms/step - loss: 0.7229 - accuracy: 0.7334 - val_loss: 0.7250 - val_accuracy: 0.7274 - lr: 0.0010\n",
      "Epoch 53/64\n",
      "675/675 [==============================] - ETA: 0s - loss: 0.7303 - accuracy: 0.7331WARNING:tensorflow:Learning rate reduction is conditioned on metric `val_acc` which is not available. Available metrics are: loss,accuracy,val_loss,val_accuracy,lr\n",
      "675/675 [==============================] - 122s 180ms/step - loss: 0.7303 - accuracy: 0.7331 - val_loss: 0.7277 - val_accuracy: 0.7287 - lr: 0.0010\n",
      "Epoch 54/64\n",
      "675/675 [==============================] - ETA: 0s - loss: 0.7201 - accuracy: 0.7288WARNING:tensorflow:Learning rate reduction is conditioned on metric `val_acc` which is not available. Available metrics are: loss,accuracy,val_loss,val_accuracy,lr\n",
      "675/675 [==============================] - 123s 182ms/step - loss: 0.7201 - accuracy: 0.7288 - val_loss: 0.7056 - val_accuracy: 0.7380 - lr: 0.0010\n",
      "Epoch 55/64\n",
      "675/675 [==============================] - ETA: 0s - loss: 0.7161 - accuracy: 0.7401WARNING:tensorflow:Learning rate reduction is conditioned on metric `val_acc` which is not available. Available metrics are: loss,accuracy,val_loss,val_accuracy,lr\n",
      "675/675 [==============================] - 127s 188ms/step - loss: 0.7161 - accuracy: 0.7401 - val_loss: 0.7552 - val_accuracy: 0.7168 - lr: 0.0010\n",
      "Epoch 56/64\n",
      "675/675 [==============================] - ETA: 0s - loss: 0.7184 - accuracy: 0.7374WARNING:tensorflow:Learning rate reduction is conditioned on metric `val_acc` which is not available. Available metrics are: loss,accuracy,val_loss,val_accuracy,lr\n",
      "675/675 [==============================] - 131s 194ms/step - loss: 0.7184 - accuracy: 0.7374 - val_loss: 0.7884 - val_accuracy: 0.7207 - lr: 0.0010\n",
      "Epoch 57/64\n",
      "675/675 [==============================] - ETA: 0s - loss: 0.7089 - accuracy: 0.7472WARNING:tensorflow:Learning rate reduction is conditioned on metric `val_acc` which is not available. Available metrics are: loss,accuracy,val_loss,val_accuracy,lr\n",
      "675/675 [==============================] - 132s 195ms/step - loss: 0.7089 - accuracy: 0.7472 - val_loss: 0.7564 - val_accuracy: 0.7261 - lr: 0.0010\n",
      "Epoch 58/64\n",
      "675/675 [==============================] - ETA: 0s - loss: 0.7231 - accuracy: 0.7400WARNING:tensorflow:Learning rate reduction is conditioned on metric `val_acc` which is not available. Available metrics are: loss,accuracy,val_loss,val_accuracy,lr\n",
      "675/675 [==============================] - 133s 197ms/step - loss: 0.7231 - accuracy: 0.7400 - val_loss: 0.8195 - val_accuracy: 0.6902 - lr: 0.0010\n",
      "Epoch 59/64\n",
      "675/675 [==============================] - ETA: 0s - loss: 0.7151 - accuracy: 0.7395WARNING:tensorflow:Learning rate reduction is conditioned on metric `val_acc` which is not available. Available metrics are: loss,accuracy,val_loss,val_accuracy,lr\n",
      "675/675 [==============================] - 132s 195ms/step - loss: 0.7151 - accuracy: 0.7395 - val_loss: 0.7150 - val_accuracy: 0.7407 - lr: 0.0010\n",
      "Epoch 60/64\n",
      "675/675 [==============================] - ETA: 0s - loss: 0.7133 - accuracy: 0.7382WARNING:tensorflow:Learning rate reduction is conditioned on metric `val_acc` which is not available. Available metrics are: loss,accuracy,val_loss,val_accuracy,lr\n",
      "675/675 [==============================] - 125s 186ms/step - loss: 0.7133 - accuracy: 0.7382 - val_loss: 0.7099 - val_accuracy: 0.7593 - lr: 0.0010\n",
      "Epoch 61/64\n"
     ]
    },
    {
     "name": "stdout",
     "output_type": "stream",
     "text": [
      "675/675 [==============================] - ETA: 0s - loss: 0.7131 - accuracy: 0.7400WARNING:tensorflow:Learning rate reduction is conditioned on metric `val_acc` which is not available. Available metrics are: loss,accuracy,val_loss,val_accuracy,lr\n",
      "675/675 [==============================] - 129s 191ms/step - loss: 0.7131 - accuracy: 0.7400 - val_loss: 0.7513 - val_accuracy: 0.7327 - lr: 0.0010\n",
      "Epoch 62/64\n",
      "675/675 [==============================] - ETA: 0s - loss: 0.7103 - accuracy: 0.7361WARNING:tensorflow:Learning rate reduction is conditioned on metric `val_acc` which is not available. Available metrics are: loss,accuracy,val_loss,val_accuracy,lr\n",
      "675/675 [==============================] - 129s 191ms/step - loss: 0.7103 - accuracy: 0.7361 - val_loss: 0.7283 - val_accuracy: 0.7646 - lr: 0.0010\n",
      "Epoch 63/64\n",
      "675/675 [==============================] - ETA: 0s - loss: 0.7166 - accuracy: 0.7392WARNING:tensorflow:Learning rate reduction is conditioned on metric `val_acc` which is not available. Available metrics are: loss,accuracy,val_loss,val_accuracy,lr\n",
      "675/675 [==============================] - 126s 186ms/step - loss: 0.7166 - accuracy: 0.7392 - val_loss: 0.6963 - val_accuracy: 0.7274 - lr: 0.0010\n",
      "Epoch 64/64\n",
      "675/675 [==============================] - ETA: 0s - loss: 0.7191 - accuracy: 0.7403WARNING:tensorflow:Learning rate reduction is conditioned on metric `val_acc` which is not available. Available metrics are: loss,accuracy,val_loss,val_accuracy,lr\n",
      "675/675 [==============================] - 130s 192ms/step - loss: 0.7191 - accuracy: 0.7403 - val_loss: 0.7435 - val_accuracy: 0.7327 - lr: 0.0010\n"
     ]
    }
   ],
   "source": [
    "epochs = 64\n",
    "batch_size = 10\n",
    "history = model.fit_generator(datagen.flow(x_train,y_train, batch_size=batch_size),\n",
    "                              epochs = epochs, validation_data = (x_validate,y_validate),\n",
    "                              verbose = 1, steps_per_epoch=x_train.shape[0] // batch_size\n",
    "                              , callbacks=[learning_rate_reduction])"
   ]
  },
  {
   "cell_type": "code",
   "execution_count": 31,
   "id": "9b15b052",
   "metadata": {},
   "outputs": [
    {
     "name": "stdout",
     "output_type": "stream",
     "text": [
      "79/79 [==============================] - 5s 59ms/step - loss: 0.6991 - accuracy: 0.7492\n",
      "24/24 [==============================] - 1s 57ms/step - loss: 0.7435 - accuracy: 0.7327\n",
      "Validation: accuracy = 0.732713  ;  loss_v = 0.743482\n",
      "Test: accuracy = 0.749201  ;  loss = 0.699060\n"
     ]
    }
   ],
   "source": [
    "loss, accuracy = model.evaluate(x_test, y_test, verbose=1)\n",
    "loss_v, accuracy_v = model.evaluate(x_validate, y_validate, verbose=1)\n",
    "print(\"Validation: accuracy = %f  ;  loss_v = %f\" % (accuracy_v, loss_v))\n",
    "print(\"Test: accuracy = %f  ;  loss = %f\" % (accuracy, loss))"
   ]
  },
  {
   "cell_type": "code",
   "execution_count": 34,
   "id": "c17de81a",
   "metadata": {},
   "outputs": [
    {
     "name": "stdout",
     "output_type": "stream",
     "text": [
      "24/24 [==============================] - 1s 56ms/step\n"
     ]
    }
   ],
   "source": [
    "from sklearn.metrics import confusion_matrix, ConfusionMatrixDisplay\n",
    "Y_pred = model.predict(x_validate)\n",
    "Y_true = np.argmax(y_validate,axis = 1)\n",
    "Y_pred_classes = np.argmax(Y_pred,axis = 1)\n",
    "confusion_matrix  = confusion_matrix(Y_true, Y_pred_classes)\n",
    "cm_display = ConfusionMatrixDisplay(confusion_matrix = confusion_matrix, display_labels = range(7))"
   ]
  },
  {
   "cell_type": "code",
   "execution_count": 38,
   "id": "5df75009",
   "metadata": {},
   "outputs": [
    {
     "data": {
      "image/png": "[encoded data removed]",
      "text/plain": [
       "<Figure size 432x288 with 2 Axes>"
      ]
     },
     "metadata": {
      "needs_background": "light"
     },
     "output_type": "display_data"
    }
   ],
   "source": [
    "cm_display.plot()\n",
    "plt.show()"
   ]
  },
  {
   "cell_type": "code",
   "execution_count": 121,
   "id": "605fca2f",
   "metadata": {},
   "outputs": [],
   "source": [
    "from keras.applications.vgg16 import decode_predictions\n",
    "def predict_image(path):\n",
    "    fileImage = Image.open(path).convert(\"RGB\").resize((100,75), Image.ANTIALIAS)\n",
    "    label = [1]\n",
    "\n",
    "    img = np.array(fileImage)\n",
    "    plt.imshow(img)\n",
    "    plt.show()\n",
    "    \n",
    "    lesion_type_dict = ['Melanocytic nevi',\n",
    "                        'Melanoma',\n",
    "                        'Benign keratosis-like lesions '\n",
    "                        ,'Basal cell carcinoma',\n",
    "                        'Actinic keratoses',\n",
    "                        'Vascular lesions',\n",
    "                        'Dermatofibroma']\n",
    "    \n",
    "    img = img.reshape(1, *(75, 100, 3))\n",
    "    img = img / 255.\n",
    "    predicted_image = model.predict(img)\n",
    "    disase = lesion_type_dict[np.argmax(predicted_image)]\n",
    "    print(disase)\n",
    "    predicted_image = np.squeeze(predicted_image)\n",
    "    predicted_image[::-1].sort()\n",
    "    print(predicted_image[0])"
   ]
  },
  {
   "cell_type": "code",
   "execution_count": 122,
   "id": "2df71749",
   "metadata": {},
   "outputs": [
    {
     "data": {
      "image/png": "[encoded data removed]",
      "text/plain": [
       "<Figure size 432x288 with 1 Axes>"
      ]
     },
     "metadata": {
      "needs_background": "light"
     },
     "output_type": "display_data"
    },
    {
     "name": "stdout",
     "output_type": "stream",
     "text": [
      "1/1 [==============================] - 0s 20ms/step\n",
      "Actinic keratoses\n",
      "0.4717903\n"
     ]
    }
   ],
   "source": [
    "predict_image(\"test1.jpg\")"
   ]
  },
  {
   "cell_type": "code",
   "execution_count": null,
   "id": "ff95df99",
   "metadata": {},
   "outputs": [],
   "source": []
  }
 ],
 "metadata": {
  "kernelspec": {
   "display_name": "Python 3 (ipykernel)",
   "language": "python",
   "name": "python3"
  },
  "language_info": {
   "codemirror_mode": {
    "name": "ipython",
    "version": 3
   },
   "file_extension": ".py",
   "mimetype": "text/x-python",
   "name": "python",
   "nbconvert_exporter": "python",
   "pygments_lexer": "ipython3",
   "version": "3.9.12"
  }
 },
 "nbformat": 4,
 "nbformat_minor": 5
}
